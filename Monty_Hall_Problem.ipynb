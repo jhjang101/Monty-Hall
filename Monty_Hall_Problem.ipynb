{
 "cells": [
  {
   "cell_type": "markdown",
   "id": "2a0215ea-3154-47d3-bec1-58a98e903d1f",
   "metadata": {},
   "source": [
    "# Monty Hall Problem\n",
    "---"
   ]
  },
  {
   "cell_type": "markdown",
   "id": "5ba32f8f-b6fa-4cd6-85ef-bbd5d01c34d2",
   "metadata": {},
   "source": [
    "### Create a function"
   ]
  },
  {
   "cell_type": "code",
   "execution_count": 50,
   "id": "373bdf96-16cc-43ee-9af9-fcc30fc9e0c8",
   "metadata": {},
   "outputs": [],
   "source": [
    "import random\n",
    "import pandas as pd\n",
    "\n",
    "doors = [1,2,3]\n",
    "prizes = ['car','goat','goat']\n",
    "\n",
    "def play(number_of_games):\n",
    "    \n",
    "    no_switch = [] # list of prize if contestant did not change mind\n",
    "    switch = [] # list of prize if contestant change mind\n",
    "    \n",
    "    for i in range(number_of_games): #of the game play\n",
    "        \n",
    "        # Create game\n",
    "        random.shuffle(prizes) # randomize car position\n",
    "        game = dict(list(zip(doors,prizes))) # make door-prize pairs \n",
    "    \n",
    "        # Player's choice\n",
    "        door_number  = random.randrange(1,4) # contestant choose a door\n",
    "        picked_prize = game[door_number] # Prize behind the door\n",
    "        game.pop(door_number) # Remove the door\n",
    "    \n",
    "        # Moderator choose a door to open\n",
    "        remaining_doors = list(game.keys()) # identify remaining doors\n",
    "        random.shuffle(remaining_doors)# randomize remaining doors\n",
    "\n",
    "        open_door = remaining_doors[0] # moderator choose a first door to open\n",
    "\n",
    "        if game[open_door] == 'car': # if the first door is car, open the other door\n",
    "            open_door = remaining_doors[1]\n",
    "        else:\n",
    "            open_door = remaining_doors[0]\n",
    "            \n",
    "        game.pop(open_door) # Remove the door \n",
    "        last_door_prize = list(game.values())[0] # Prize behind the last door\n",
    "    \n",
    "        no_switch.append(picked_prize) # list of prize if contestant did not change mind\n",
    "        switch.append(last_door_prize) # list of prize if contestant change mind\n",
    "        \n",
    "    no_switch_car=no_switch.count('car') # number of win a car if contestant did not change mind\n",
    "    switch_car=switch.count('car') # number of win a car if contestant change mind\n",
    "\n",
    "    print('Number of wins') \n",
    "    print('No switch:',no_switch_car)\n",
    "    print('Switch:',switch_car)\n",
    "    \n",
    "    return(no_switch_car)"
   ]
  },
  {
   "cell_type": "markdown",
   "id": "f540d7e2-e96f-4206-af81-e248c17f17fc",
   "metadata": {},
   "source": [
    "### Play games multiple times"
   ]
  },
  {
   "cell_type": "code",
   "execution_count": 51,
   "id": "0b4cf98d-b51f-4198-91e5-8f0c622e4a7f",
   "metadata": {},
   "outputs": [
    {
     "name": "stdout",
     "output_type": "stream",
     "text": [
      "Number of wins\n",
      "No switch: 31\n",
      "Switch: 69\n"
     ]
    },
    {
     "data": {
      "text/plain": [
       "31"
      ]
     },
     "execution_count": 51,
     "metadata": {},
     "output_type": "execute_result"
    }
   ],
   "source": [
    "play(100)"
   ]
  },
  {
   "cell_type": "code",
   "execution_count": 61,
   "id": "46939b78-2ab8-46d1-b2b8-aefa0029fced",
   "metadata": {},
   "outputs": [
    {
     "name": "stdout",
     "output_type": "stream",
     "text": [
      "Number of wins\n",
      "No switch: 1\n",
      "Switch: 0\n",
      "Number of wins\n",
      "No switch: 1\n",
      "Switch: 1\n",
      "Number of wins\n",
      "No switch: 0\n",
      "Switch: 3\n",
      "Number of wins\n",
      "No switch: 1\n",
      "Switch: 3\n"
     ]
    }
   ],
   "source": [
    "win_numbers_no_switch=[]\n",
    "win_numbers_switch=[]\n",
    "numbers_of_game=[]\n",
    "\n",
    "for i in range(1,5):\n",
    "    no_switch_win=play(i)\n",
    "    win_numbers_no_switch.append(no_switch_win)\n",
    "    win_numbers_switch.append(i-no_switch_win)\n",
    "    numbers_of_game.append(i)"
   ]
  },
  {
   "cell_type": "code",
   "execution_count": 62,
   "id": "a0121294-64f7-4618-b8cf-9ef0dc780ee3",
   "metadata": {},
   "outputs": [
    {
     "name": "stdout",
     "output_type": "stream",
     "text": [
      "[1, 1, 0, 1]\n",
      "[0, 1, 3, 3]\n",
      "[1, 2, 3, 4]\n"
     ]
    }
   ],
   "source": [
    "print(win_numbers_no_switch)\n",
    "print(win_numbers_switch)\n",
    "print(numbers_of_game)\n"
   ]
  },
  {
   "cell_type": "code",
   "execution_count": 67,
   "id": "09390914-c8f2-45ba-9114-1dcf0e97ead4",
   "metadata": {},
   "outputs": [
    {
     "data": {
      "text/html": [
       "<div>\n",
       "<style scoped>\n",
       "    .dataframe tbody tr th:only-of-type {\n",
       "        vertical-align: middle;\n",
       "    }\n",
       "\n",
       "    .dataframe tbody tr th {\n",
       "        vertical-align: top;\n",
       "    }\n",
       "\n",
       "    .dataframe thead th {\n",
       "        text-align: right;\n",
       "    }\n",
       "</style>\n",
       "<table border=\"1\" class=\"dataframe\">\n",
       "  <thead>\n",
       "    <tr style=\"text-align: right;\">\n",
       "      <th></th>\n",
       "      <th>No_of_game_played</th>\n",
       "      <th>Win_no_switch</th>\n",
       "      <th>Win_switch</th>\n",
       "    </tr>\n",
       "  </thead>\n",
       "  <tbody>\n",
       "    <tr>\n",
       "      <th>0</th>\n",
       "      <td>1</td>\n",
       "      <td>1</td>\n",
       "      <td>0</td>\n",
       "    </tr>\n",
       "    <tr>\n",
       "      <th>1</th>\n",
       "      <td>2</td>\n",
       "      <td>1</td>\n",
       "      <td>1</td>\n",
       "    </tr>\n",
       "    <tr>\n",
       "      <th>2</th>\n",
       "      <td>3</td>\n",
       "      <td>0</td>\n",
       "      <td>3</td>\n",
       "    </tr>\n",
       "    <tr>\n",
       "      <th>3</th>\n",
       "      <td>4</td>\n",
       "      <td>1</td>\n",
       "      <td>3</td>\n",
       "    </tr>\n",
       "  </tbody>\n",
       "</table>\n",
       "</div>"
      ],
      "text/plain": [
       "   No_of_game_played  Win_no_switch  Win_switch\n",
       "0                  1              1           0\n",
       "1                  2              1           1\n",
       "2                  3              0           3\n",
       "3                  4              1           3"
      ]
     },
     "execution_count": 67,
     "metadata": {},
     "output_type": "execute_result"
    }
   ],
   "source": [
    "df = pd.DataFrame(dict( No_of_game_played = numbers_of_game, Win_no_switch = win_numbers_no_switch, Win_switch = win_numbers_switch))\n",
    "df"
   ]
  }
 ],
 "metadata": {
  "kernelspec": {
   "display_name": "Python 3 (ipykernel)",
   "language": "python",
   "name": "python3"
  },
  "language_info": {
   "codemirror_mode": {
    "name": "ipython",
    "version": 3
   },
   "file_extension": ".py",
   "mimetype": "text/x-python",
   "name": "python",
   "nbconvert_exporter": "python",
   "pygments_lexer": "ipython3",
   "version": "3.9.13"
  }
 },
 "nbformat": 4,
 "nbformat_minor": 5
}
